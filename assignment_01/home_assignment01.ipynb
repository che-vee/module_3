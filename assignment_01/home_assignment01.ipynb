{
 "cells": [
  {
   "cell_type": "markdown",
   "metadata": {},
   "source": [
    "### Home assignment 01.\n",
    "\n",
    "Your goal is to follow this notebook and complete all the steps.\n",
    "\n",
    "Please, solve all these excersises (both on python and bash) _using the remote machine_: either in jupyter notebook or using bash.\n",
    "\n",
    "We ask you to start with signing this notebook in the following cell and printing some tech information. Please, just run the second cell without any changes.\n",
    "\n",
    "Good luck!"
   ]
  },
  {
   "cell_type": "code",
   "execution_count": 3,
   "metadata": {},
   "outputs": [],
   "source": [
    "first_name = 'Valentine'\n",
    "last_name = 'Lang\\'at'"
   ]
  },
  {
   "cell_type": "code",
   "execution_count": 4,
   "metadata": {},
   "outputs": [
    {
     "name": "stdout",
     "output_type": "stream",
     "text": [
      "['/home/ml32020/valentine/module_3/assignment_01', '/home/ml32020/valentine/miniconda3/envs/module_3/lib/python38.zip', '/home/ml32020/valentine/miniconda3/envs/module_3/lib/python3.8', '/home/ml32020/valentine/miniconda3/envs/module_3/lib/python3.8/lib-dynload', '', '/home/ml32020/valentine/miniconda3/envs/module_3/lib/python3.8/site-packages', '/home/ml32020/valentine/miniconda3/envs/module_3/lib/python3.8/site-packages/IPython/extensions', '/home/ml32020/valentine/.ipython']\n",
      "3.8.12 (default, Oct 12 2021, 13:49:34) \n",
      "[GCC 7.5.0]\n"
     ]
    }
   ],
   "source": [
    "import sys\n",
    "print(sys.path)\n",
    "print(sys.version)"
   ]
  },
  {
   "cell_type": "markdown",
   "metadata": {},
   "source": [
    "#### Excersise 0\n",
    "Import `this` and read the zen of Python."
   ]
  },
  {
   "cell_type": "code",
   "execution_count": 5,
   "metadata": {},
   "outputs": [
    {
     "name": "stdout",
     "output_type": "stream",
     "text": [
      "The Zen of Python, by Tim Peters\n",
      "\n",
      "Beautiful is better than ugly.\n",
      "Explicit is better than implicit.\n",
      "Simple is better than complex.\n",
      "Complex is better than complicated.\n",
      "Flat is better than nested.\n",
      "Sparse is better than dense.\n",
      "Readability counts.\n",
      "Special cases aren't special enough to break the rules.\n",
      "Although practicality beats purity.\n",
      "Errors should never pass silently.\n",
      "Unless explicitly silenced.\n",
      "In the face of ambiguity, refuse the temptation to guess.\n",
      "There should be one-- and preferably only one --obvious way to do it.\n",
      "Although that way may not be obvious at first unless you're Dutch.\n",
      "Now is better than never.\n",
      "Although never is often better than *right* now.\n",
      "If the implementation is hard to explain, it's a bad idea.\n",
      "If the implementation is easy to explain, it may be a good idea.\n",
      "Namespaces are one honking great idea -- let's do more of those!\n"
     ]
    }
   ],
   "source": [
    "import this"
   ]
  },
  {
   "cell_type": "code",
   "execution_count": 6,
   "metadata": {},
   "outputs": [],
   "source": [
    "student_has_read_zen_of_python = True\n",
    "assert student_has_read_zen_of_python"
   ]
  },
  {
   "cell_type": "markdown",
   "metadata": {},
   "source": [
    "#### Excersise 1\n",
    "\n",
    "Read the docs on `isinstance` method and check whether the following objects belong to the proposed types (hint: `isinstance`).\n",
    "\n",
    "Additional excersise: visualize this correspondance matrix (object – type), e.g. using numpy and [pcolormesh](https://matplotlib.org/stable/api/_as_gen/matplotlib.pyplot.pcolormesh.html) for visualization."
   ]
  },
  {
   "cell_type": "code",
   "execution_count": 23,
   "metadata": {},
   "outputs": [],
   "source": [
    "list_of_objects = [\n",
    "    int,\n",
    "    2,\n",
    "    2.,\n",
    "    None,\n",
    "    object,\n",
    "    str,\n",
    "    str(2.),\n",
    "    float('2.0'),\n",
    "    'hello',\n",
    "    this,\n",
    "    dict,\n",
    "    list,\n",
    "    [dict],\n",
    "    {1: []}\n",
    "]\n",
    "\n",
    "list_of_types = [\n",
    "    int,\n",
    "    float,\n",
    "    object,\n",
    "#     module,\n",
    "    str,\n",
    "    dict,\n",
    "    list\n",
    "]"
   ]
  },
  {
   "cell_type": "code",
   "execution_count": 25,
   "metadata": {},
   "outputs": [
    {
     "name": "stdout",
     "output_type": "stream",
     "text": [
      "<class 'int'> <class 'int'> False\n",
      "<class 'int'> <class 'float'> False\n",
      "<class 'int'> <class 'object'> True\n",
      "<class 'int'> <class 'str'> False\n",
      "<class 'int'> <class 'dict'> False\n",
      "<class 'int'> <class 'list'> False\n",
      "2 <class 'int'> True\n",
      "2 <class 'float'> False\n",
      "2 <class 'object'> True\n",
      "2 <class 'str'> False\n",
      "2 <class 'dict'> False\n",
      "2 <class 'list'> False\n",
      "2.0 <class 'int'> False\n",
      "2.0 <class 'float'> True\n",
      "2.0 <class 'object'> True\n",
      "2.0 <class 'str'> False\n",
      "2.0 <class 'dict'> False\n",
      "2.0 <class 'list'> False\n",
      "None <class 'int'> False\n",
      "None <class 'float'> False\n",
      "None <class 'object'> True\n",
      "None <class 'str'> False\n",
      "None <class 'dict'> False\n",
      "None <class 'list'> False\n",
      "<class 'object'> <class 'int'> False\n",
      "<class 'object'> <class 'float'> False\n",
      "<class 'object'> <class 'object'> True\n",
      "<class 'object'> <class 'str'> False\n",
      "<class 'object'> <class 'dict'> False\n",
      "<class 'object'> <class 'list'> False\n",
      "<class 'str'> <class 'int'> False\n",
      "<class 'str'> <class 'float'> False\n",
      "<class 'str'> <class 'object'> True\n",
      "<class 'str'> <class 'str'> False\n",
      "<class 'str'> <class 'dict'> False\n",
      "<class 'str'> <class 'list'> False\n",
      "2.0 <class 'int'> False\n",
      "2.0 <class 'float'> False\n",
      "2.0 <class 'object'> True\n",
      "2.0 <class 'str'> True\n",
      "2.0 <class 'dict'> False\n",
      "2.0 <class 'list'> False\n",
      "2.0 <class 'int'> False\n",
      "2.0 <class 'float'> True\n",
      "2.0 <class 'object'> True\n",
      "2.0 <class 'str'> False\n",
      "2.0 <class 'dict'> False\n",
      "2.0 <class 'list'> False\n",
      "hello <class 'int'> False\n",
      "hello <class 'float'> False\n",
      "hello <class 'object'> True\n",
      "hello <class 'str'> True\n",
      "hello <class 'dict'> False\n",
      "hello <class 'list'> False\n",
      "<module 'this' from '/home/ml32020/valentine/miniconda3/envs/module_3/lib/python3.8/this.py'> <class 'int'> False\n",
      "<module 'this' from '/home/ml32020/valentine/miniconda3/envs/module_3/lib/python3.8/this.py'> <class 'float'> False\n",
      "<module 'this' from '/home/ml32020/valentine/miniconda3/envs/module_3/lib/python3.8/this.py'> <class 'object'> True\n",
      "<module 'this' from '/home/ml32020/valentine/miniconda3/envs/module_3/lib/python3.8/this.py'> <class 'str'> False\n",
      "<module 'this' from '/home/ml32020/valentine/miniconda3/envs/module_3/lib/python3.8/this.py'> <class 'dict'> False\n",
      "<module 'this' from '/home/ml32020/valentine/miniconda3/envs/module_3/lib/python3.8/this.py'> <class 'list'> False\n",
      "<class 'dict'> <class 'int'> False\n",
      "<class 'dict'> <class 'float'> False\n",
      "<class 'dict'> <class 'object'> True\n",
      "<class 'dict'> <class 'str'> False\n",
      "<class 'dict'> <class 'dict'> False\n",
      "<class 'dict'> <class 'list'> False\n",
      "<class 'list'> <class 'int'> False\n",
      "<class 'list'> <class 'float'> False\n",
      "<class 'list'> <class 'object'> True\n",
      "<class 'list'> <class 'str'> False\n",
      "<class 'list'> <class 'dict'> False\n",
      "<class 'list'> <class 'list'> False\n",
      "[<class 'dict'>] <class 'int'> False\n",
      "[<class 'dict'>] <class 'float'> False\n",
      "[<class 'dict'>] <class 'object'> True\n",
      "[<class 'dict'>] <class 'str'> False\n",
      "[<class 'dict'>] <class 'dict'> False\n",
      "[<class 'dict'>] <class 'list'> True\n",
      "{1: []} <class 'int'> False\n",
      "{1: []} <class 'float'> False\n",
      "{1: []} <class 'object'> True\n",
      "{1: []} <class 'str'> False\n",
      "{1: []} <class 'dict'> True\n",
      "{1: []} <class 'list'> False\n"
     ]
    }
   ],
   "source": [
    "for obj in list_of_objects:\n",
    "    for typ in list_of_types:\n",
    "        print(obj, typ, isinstance(obj, typ))\n",
    "        "
   ]
  },
  {
   "cell_type": "markdown",
   "metadata": {},
   "source": [
    "#### Excersise 2\n",
    "\n",
    "Set quotient and remainder of 89 divided by 11 to \"a\" and \"b\" variables *"
   ]
  },
  {
   "cell_type": "code",
   "execution_count": 9,
   "metadata": {},
   "outputs": [
    {
     "name": "stdout",
     "output_type": "stream",
     "text": [
      "Quotient: 8\n",
      "Remainder: 1\n"
     ]
    }
   ],
   "source": [
    "a = 89\n",
    "b = 11\n",
    "\n",
    "print(\"Quotient:\", a // b)\n",
    "print(\"Remainder:\", a % b)"
   ]
  },
  {
   "cell_type": "markdown",
   "metadata": {},
   "source": [
    "#### Excersise 3\n",
    "\n",
    "Calculate the next cells:\n",
    "```\n",
    "0) 10 ** 1000\n",
    "1) 1.0 / 10 ** 1000\n",
    "2) 1 / 10 ** 1000\n",
    "3) 10 ** 1000 / 1\n",
    "4) 1 / (1 / 10 ** 1000)\n",
    "```"
   ]
  },
  {
   "cell_type": "code",
   "execution_count": 10,
   "metadata": {},
   "outputs": [
    {
     "name": "stdout",
     "output_type": "stream",
     "text": [
      "10000000000000000000000000000000000000000000000000000000000000000000000000000000000000000000000000000000000000000000000000000000000000000000000000000000000000000000000000000000000000000000000000000000000000000000000000000000000000000000000000000000000000000000000000000000000000000000000000000000000000000000000000000000000000000000000000000000000000000000000000000000000000000000000000000000000000000000000000000000000000000000000000000000000000000000000000000000000000000000000000000000000000000000000000000000000000000000000000000000000000000000000000000000000000000000000000000000000000000000000000000000000000000000000000000000000000000000000000000000000000000000000000000000000000000000000000000000000000000000000000000000000000000000000000000000000000000000000000000000000000000000000000000000000000000000000000000000000000000000000000000000000000000000000000000000000000000000000000000000000000000000000000000000000000000000000000000000000000000000000000000000000000000000000000000000000000000\n"
     ]
    },
    {
     "ename": "OverflowError",
     "evalue": "int too large to convert to float",
     "output_type": "error",
     "traceback": [
      "\u001b[0;31m---------------------------------------------------------------------------\u001b[0m",
      "\u001b[0;31mOverflowError\u001b[0m                             Traceback (most recent call last)",
      "\u001b[0;32m/tmp/ipykernel_15789/1396178823.py\u001b[0m in \u001b[0;36m<module>\u001b[0;34m\u001b[0m\n\u001b[1;32m      1\u001b[0m \u001b[0mprint\u001b[0m\u001b[0;34m(\u001b[0m\u001b[0;36m10\u001b[0m \u001b[0;34m**\u001b[0m \u001b[0;36m1000\u001b[0m\u001b[0;34m)\u001b[0m\u001b[0;34m\u001b[0m\u001b[0;34m\u001b[0m\u001b[0m\n\u001b[0;32m----> 2\u001b[0;31m \u001b[0mprint\u001b[0m\u001b[0;34m(\u001b[0m\u001b[0;36m1.0\u001b[0m \u001b[0;34m/\u001b[0m \u001b[0;36m10\u001b[0m \u001b[0;34m**\u001b[0m \u001b[0;36m1000\u001b[0m\u001b[0;34m)\u001b[0m\u001b[0;34m\u001b[0m\u001b[0;34m\u001b[0m\u001b[0m\n\u001b[0m\u001b[1;32m      3\u001b[0m \u001b[0mprint\u001b[0m\u001b[0;34m(\u001b[0m\u001b[0;36m1\u001b[0m \u001b[0;34m/\u001b[0m \u001b[0;36m10\u001b[0m \u001b[0;34m**\u001b[0m \u001b[0;36m1000\u001b[0m\u001b[0;34m)\u001b[0m\u001b[0;34m\u001b[0m\u001b[0;34m\u001b[0m\u001b[0m\n\u001b[1;32m      4\u001b[0m \u001b[0mprint\u001b[0m\u001b[0;34m(\u001b[0m\u001b[0;36m10\u001b[0m \u001b[0;34m**\u001b[0m \u001b[0;36m1000\u001b[0m \u001b[0;34m/\u001b[0m \u001b[0;36m1\u001b[0m\u001b[0;34m)\u001b[0m\u001b[0;34m\u001b[0m\u001b[0;34m\u001b[0m\u001b[0m\n\u001b[1;32m      5\u001b[0m \u001b[0mprint\u001b[0m\u001b[0;34m(\u001b[0m\u001b[0;36m1\u001b[0m \u001b[0;34m/\u001b[0m \u001b[0;34m(\u001b[0m\u001b[0;36m1\u001b[0m \u001b[0;34m/\u001b[0m \u001b[0;36m10\u001b[0m \u001b[0;34m**\u001b[0m \u001b[0;36m1000\u001b[0m\u001b[0;34m)\u001b[0m\u001b[0;34m)\u001b[0m\u001b[0;34m\u001b[0m\u001b[0;34m\u001b[0m\u001b[0m\n",
      "\u001b[0;31mOverflowError\u001b[0m: int too large to convert to float"
     ]
    }
   ],
   "source": [
    "print(10 ** 1000)\n",
    "print(1.0 / 10 ** 1000)\n",
    "print(1 / 10 ** 1000)\n",
    "print(10 ** 1000 / 1)\n",
    "print(1 / (1 / 10 ** 1000))"
   ]
  },
  {
   "cell_type": "markdown",
   "metadata": {},
   "source": [
    "How to avoid these behaviours to receive correct results in steps 1-4?\n",
    "\n",
    "It is enough to provide your thoughts / seach the web for decisions and share the links / point to specific constructions in Python which were constructed to solve this problem."
   ]
  },
  {
   "cell_type": "markdown",
   "metadata": {},
   "source": [
    "By using the Decimal() function from the decimal module\n",
    "https://stackoverflow.com/questions/16174399/overflowerror-long-int-too-large-to-convert-to-float-in-python"
   ]
  },
  {
   "cell_type": "markdown",
   "metadata": {},
   "source": [
    "#### Excersise 4.1\n",
    "\n",
    "Check if string is a correct integer\n"
   ]
  },
  {
   "cell_type": "code",
   "execution_count": 27,
   "metadata": {},
   "outputs": [
    {
     "name": "stdout",
     "output_type": "stream",
     "text": [
      "True\n",
      "False\n"
     ]
    }
   ],
   "source": [
    "def correct_int(string):\n",
    "    print(True if string.isdigit() else False)\n",
    "    \n",
    "correct_int(\"879\")\n",
    "correct_int(\"1j\")"
   ]
  },
  {
   "cell_type": "markdown",
   "metadata": {},
   "source": [
    "#### Excersise 4.2\n",
    "\n",
    "Create a palindrom from given string. For example, \"abc\" -> \"abcba\""
   ]
  },
  {
   "cell_type": "code",
   "execution_count": 34,
   "metadata": {},
   "outputs": [
    {
     "name": "stdout",
     "output_type": "stream",
     "text": [
      "abcba\n"
     ]
    }
   ],
   "source": [
    "def create_palindrom(string):\n",
    "    print(string + string[1::-1])\n",
    "    \n",
    "create_palindrom(\"abc\")"
   ]
  },
  {
   "cell_type": "markdown",
   "metadata": {},
   "source": [
    "#### Excersise 4.3\n",
    "\n",
    "User inputs one's name into \"name\" variable. One can use `lowercase`, `UPPERCASE`, or `sOmeTHingLikeThatCaSE`. You need to turn this string into regular case used with names: `Firstletterisbigothersaresmall`."
   ]
  },
  {
   "cell_type": "code",
   "execution_count": 14,
   "metadata": {},
   "outputs": [
    {
     "name": "stdout",
     "output_type": "stream",
     "text": [
      "Helloiamuser\n",
      "Johndeere\n",
      "Firstnamelastname\n"
     ]
    }
   ],
   "source": [
    "name1 = 'HellOIamUsER'\n",
    "name2 = 'johndeere'\n",
    "name3 = 'FIRSTNAMELASTNAME'\n",
    "\n",
    "def regular_case(string):\n",
    "    print(string.capitalize())\n",
    "    \n",
    "regular_case(name1)\n",
    "regular_case(name2)\n",
    "regular_case(name3)"
   ]
  },
  {
   "cell_type": "markdown",
   "metadata": {},
   "source": [
    "#### Excersise 4.4\n",
    "\n",
    "You have a string that consists of English letters and \".\", \",\", \"-\", \"!\", \"?\", \":\", \";\" symbols. Extract all words without punctuation from this string."
   ]
  },
  {
   "cell_type": "code",
   "execution_count": 32,
   "metadata": {},
   "outputs": [
    {
     "name": "stdout",
     "output_type": "stream",
     "text": [
      "This is what life is made of\n",
      "May the 4th be with you\n"
     ]
    }
   ],
   "source": [
    "def remove_punctuation(string):\n",
    "    return \"\".join([s for s in string if s.isalnum() or s.isspace()])\n",
    "\n",
    "print(remove_punctuation(\"This, is wh-at li.fe is made -of.\"))\n",
    "print(remove_punctuation(\"May. th,e 4th be wit;h you.\"))"
   ]
  },
  {
   "cell_type": "markdown",
   "metadata": {},
   "source": [
    "#### Excersise 4.5\n",
    "\n",
    "Assign string `\"\"\"'''\\/'''\"\"\"` to Python variable (all 14 symbols)\n"
   ]
  },
  {
   "cell_type": "code",
   "execution_count": 15,
   "metadata": {},
   "outputs": [
    {
     "name": "stdout",
     "output_type": "stream",
     "text": [
      "\"\"\"'''\\/'''\"\"\"\n"
     ]
    }
   ],
   "source": [
    "string = \"\\\"\\\"\\\"'''\\/'''\\\"\\\"\\\"\"\n",
    "print(string)"
   ]
  },
  {
   "cell_type": "markdown",
   "metadata": {},
   "source": [
    "#### Excersise 4.6\n",
    "\n",
    "Print pi number in a string  \"pi is approximately equal to ALMOSTPI\", where instead of ALMOSTPI you insert 22/7 with 3 digits after comma."
   ]
  },
  {
   "cell_type": "code",
   "execution_count": 36,
   "metadata": {},
   "outputs": [
    {
     "name": "stdout",
     "output_type": "stream",
     "text": [
      "3.143\n"
     ]
    }
   ],
   "source": [
    "pi = 22/7\n",
    "\n",
    "print(round(pi, 3))"
   ]
  },
  {
   "cell_type": "markdown",
   "metadata": {},
   "source": [
    "#### Excersise 5\n",
    "\n",
    "You have multiline text inside string variable named `text`. Create list of lines from that text."
   ]
  },
  {
   "cell_type": "code",
   "execution_count": 18,
   "metadata": {},
   "outputs": [
    {
     "name": "stdout",
     "output_type": "stream",
     "text": [
      "['The beginning of eternity,', 'The end of time and space,', 'The beginning of every end,', 'And the end of every place.']\n"
     ]
    }
   ],
   "source": [
    "text = \"\"\"The beginning of eternity,\n",
    "The end of time and space,\n",
    "The beginning of every end,\n",
    "And the end of every place.\"\"\"\n",
    "print(text.split(\"\\n\"))"
   ]
  },
  {
   "cell_type": "markdown",
   "metadata": {},
   "source": [
    "#### Excersise 5\n",
    "Answer with your own words to one of the following questions. Your variant is based on your name and computed automatically in the next cell.\n",
    "\n",
    "Variant 1:\n",
    "Imagine, you are developing a vending machine. You need to keep your vending machine state: which items are presented on which shelves, how much money inside machine to give change, how much money user inserted in current time, which purchases users made etc. You need to create a data structure for that using known data types.\n",
    "\n",
    "Variant 2:\n",
    "Imagine, you are developing a messenger with direct messages, groups, different media types of messages, etc. You need to keep your messenger state in memory: all users with their data, which chats they have, etc. You need to create a data structure for that using known data types.\n",
    "\n",
    "Variant 3:\n",
    "Imagine, you are developing a staff management system for a mid-size corporation. You need to keep all organizational structure in memory: departments, employees, their personal data, positions, salaries, history of growth, who is whose boss, etc. You need to create a data structure for that using known data types."
   ]
  },
  {
   "cell_type": "code",
   "execution_count": 19,
   "metadata": {},
   "outputs": [
    {
     "name": "stdout",
     "output_type": "stream",
     "text": [
      "Your variant is 1\n"
     ]
    }
   ],
   "source": [
    "variant = hash(' '.join([first_name, last_name])) % 3 + 1\n",
    "print(f'Your variant is {variant}')"
   ]
  },
  {
   "cell_type": "markdown",
   "metadata": {},
   "source": [
    "To keep track of purchases made by users, change etc, a dictionary to keep track of the data.\n",
    "To keep track of the items a matrix made from lists to keep track of the items."
   ]
  },
  {
   "cell_type": "markdown",
   "metadata": {},
   "source": [
    "#### Excersise 6\n",
    "\n",
    "Clear your current repository (remove all useless files).\n",
    "Then create a package named `assignment01`.\n",
    "\n",
    "In the `assignment01` package you should have two `.py` files:\n",
    "\n",
    "```\n",
    "get_date.py\n",
    "get_time.py\n",
    "```\n",
    "File `get_date.py` contains only function `ding()` which returns the current date in format `yyyy-mm-dd`\n",
    "\n",
    "File `get_date.py` contains only function `dong()` which  returns the current time in 24h format `hh:mm:ss`\n",
    "\n",
    "Import these files and call the functions in the next cell."
   ]
  },
  {
   "cell_type": "code",
   "execution_count": 21,
   "metadata": {},
   "outputs": [
    {
     "name": "stdout",
     "output_type": "stream",
     "text": [
      "2021-11-17\n",
      "16:41:52\n"
     ]
    }
   ],
   "source": [
    "from assignment01 import get_date, get_time\n",
    "\n",
    "print(get_date.ding())\n",
    "print(get_time.dong())"
   ]
  },
  {
   "cell_type": "markdown",
   "metadata": {},
   "source": [
    "#### Excersise 7\n",
    "\n",
    "Create the `.gitignore` file in the current repository and enshure git will ignore jupyter notebook checkpoints (hint: check the hidden directories) and python cache."
   ]
  },
  {
   "cell_type": "markdown",
   "metadata": {},
   "source": [
    "_Here you should interact with the command prompt_"
   ]
  },
  {
   "cell_type": "markdown",
   "metadata": {},
   "source": [
    "#### Excersise 8\n",
    "Create folder `shell_tools` in your repository.\n",
    "\n",
    "Solve the excersises from [this lesson](https://missing.csail.mit.edu/2020/shell-tools/) from the brilliant course by MIT: https://missing.csail.mit.edu\n",
    "\n",
    "Place your solutions in the `shell_tools` directory. It should contain one file for each step except step 2 (named `step0*`) with bash commands. Step 2 already requires you to write `marco` and `polo` scripts)."
   ]
  },
  {
   "cell_type": "markdown",
   "metadata": {},
   "source": [
    "_Here you should interact with the command prompt_"
   ]
  },
  {
   "cell_type": "markdown",
   "metadata": {},
   "source": [
    "#### Excersise 9\n",
    "\n",
    "Move this notebook to the repository directory (unless it is already there), commit and push all updates to the remote. Thes sync it to the local machine and check that this exact notebook runs (Kernel –> Restart and run all) without any changes."
   ]
  },
  {
   "cell_type": "code",
   "execution_count": null,
   "metadata": {},
   "outputs": [],
   "source": [
    "notebook_runs_on_local_machine_without_any_changes = True\n",
    "assert notebook_runs_on_local_machine_without_any_changes"
   ]
  },
  {
   "cell_type": "markdown",
   "metadata": {},
   "source": [
    "### Sumbitting your home assignment\n",
    "Push your results to the remote repository and share the link to it in the Google Classroom.\n",
    "\n",
    "Congratulations!"
   ]
  }
 ],
 "metadata": {
  "interpreter": {
   "hash": "28c9fae86ab57143f7f1acc72d558c6d43d9f05c33976e9956f085dc37429659"
  },
  "kernelspec": {
   "display_name": "Module_3",
   "language": "python",
   "name": "python3"
  },
  "language_info": {
   "codemirror_mode": {
    "name": "ipython",
    "version": 3
   },
   "file_extension": ".py",
   "mimetype": "text/x-python",
   "name": "python",
   "nbconvert_exporter": "python",
   "pygments_lexer": "ipython3",
   "version": "3.9.5"
  }
 },
 "nbformat": 4,
 "nbformat_minor": 4
}
