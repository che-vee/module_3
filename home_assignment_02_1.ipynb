{
  "nbformat": 4,
  "nbformat_minor": 0,
  "metadata": {
    "colab": {
      "name": "home_assignment_02.ipynb",
      "provenance": [],
      "collapsed_sections": []
    },
    "kernelspec": {
      "name": "python3",
      "display_name": "Python 3"
    },
    "accelerator": "GPU"
  },
  "cells": [
    {
      "cell_type": "markdown",
      "metadata": {
        "id": "_9j_aLkqSrBi"
      },
      "source": [
        "To generate random data in Python using a [random](https://pynative.com/python/random/) module "
      ]
    },
    {
      "cell_type": "code",
      "metadata": {
        "id": "xMl6GayDUCB4"
      },
      "source": [
        "import random\n",
        "import math"
      ],
      "execution_count": null,
      "outputs": []
    },
    {
      "cell_type": "code",
      "metadata": {
        "colab": {
          "base_uri": "https://localhost:8080/"
        },
        "id": "iWcfhc6JhT4D",
        "outputId": "99eb334c-4533-4379-abd3-a996c1278fed"
      },
      "source": [
        "!python --version"
      ],
      "execution_count": null,
      "outputs": [
        {
          "output_type": "stream",
          "name": "stdout",
          "text": [
            "Python 3.7.12\n"
          ]
        }
      ]
    },
    {
      "cell_type": "markdown",
      "metadata": {
        "id": "QMlUzOq0oAI5"
      },
      "source": [
        "### Exercise 1\n",
        "You have a list a = [1, 1, 2, 3, 5, 6, 13, 21, 34, 55, 89].\n",
        "\n",
        "Print all even elements and sum."
      ]
    },
    {
      "cell_type": "code",
      "metadata": {
        "id": "rwJIfKOdnfGW",
        "colab": {
          "base_uri": "https://localhost:8080/"
        },
        "outputId": "57f836cd-b8f2-44cd-98a0-5cabe58674a9"
      },
      "source": [
        "a = [1, 1, 2, 3, 5, 6, 13, 21, 34, 55, 89]\n",
        "\n",
        "even = [i for i in a if i % 2 == 0] \n",
        "print(\"even numbers:\", even) \n",
        "\n",
        "print(\"sum:\", sum(even))"
      ],
      "execution_count": null,
      "outputs": [
        {
          "output_type": "stream",
          "name": "stdout",
          "text": [
            "even numbers: [2, 6, 34]\n",
            "sum: 42\n"
          ]
        }
      ]
    },
    {
      "cell_type": "markdown",
      "metadata": {
        "id": "0PxuwdtZoB9-"
      },
      "source": [
        "### Exercise 2\n",
        "Print a list that consists of the common elements of the two lists."
      ]
    },
    {
      "cell_type": "code",
      "metadata": {
        "id": "9T9ue6_h-RA0",
        "colab": {
          "base_uri": "https://localhost:8080/"
        },
        "outputId": "a16a2646-b7f6-48a0-f18e-5aadeda81196"
      },
      "source": [
        "a = [1, 1, 2, 3, 5, 6, 13, 21, 34, 55, 89]\n",
        "b = [1, 2, 3, 4, 5, 6, 7, 8, 9, 10, 11, 12, 13]\n",
        "\n",
        "list(set(a).intersection(b))"
      ],
      "execution_count": null,
      "outputs": [
        {
          "output_type": "execute_result",
          "data": {
            "text/plain": [
              "[1, 2, 3, 5, 6, 13]"
            ]
          },
          "metadata": {},
          "execution_count": 25
        }
      ]
    },
    {
      "cell_type": "markdown",
      "metadata": {
        "id": "D-7vU_xMoGXW"
      },
      "source": [
        "### Exercise 3\n",
        "Print the first n lines of [Pascal's triangle](https://en.wikipedia.org/wiki/Pascal%27s_triangle). The view can be not formatted, that is, just print lines from Pascal's triangle."
      ]
    },
    {
      "cell_type": "code",
      "metadata": {
        "id": "ORxlMF5XoHaf",
        "colab": {
          "base_uri": "https://localhost:8080/"
        },
        "outputId": "b6c71b51-8d56-4d83-fcf6-b7cb4701bd00"
      },
      "source": [
        "n = int(input('Enter the number of lines: '))\n",
        "\n",
        "for i in range(n):\n",
        "  print(\"\\n\")\n",
        "  for j in range(i + 1):\n",
        "    print(math.factorial(i)//(math.factorial(j)*math.factorial(i-j)), end=\" \")"
      ],
      "execution_count": null,
      "outputs": [
        {
          "output_type": "stream",
          "name": "stdout",
          "text": [
            "Enter the number of lines: 5\n",
            "\n",
            "\n",
            "1 \n",
            "\n",
            "1 1 \n",
            "\n",
            "1 2 1 \n",
            "\n",
            "1 3 3 1 \n",
            "\n",
            "1 4 6 4 1 "
          ]
        }
      ]
    },
    {
      "cell_type": "markdown",
      "metadata": {
        "id": "LZFh27IYoH-M"
      },
      "source": [
        "### Exercise 4\n",
        "Check if the string is a palindrome."
      ]
    },
    {
      "cell_type": "code",
      "metadata": {
        "id": "dbmC6TJNTERJ",
        "colab": {
          "base_uri": "https://localhost:8080/"
        },
        "outputId": "327fbffb-b02c-42b9-e59c-b3948d63ed8a"
      },
      "source": [
        "string = input('Enter the string: ')\n",
        "\n",
        "print(True if string == string[::-1] else False)"
      ],
      "execution_count": null,
      "outputs": [
        {
          "output_type": "stream",
          "name": "stdout",
          "text": [
            "Enter the string: huiuh\n",
            "True\n"
          ]
        }
      ]
    },
    {
      "cell_type": "markdown",
      "metadata": {
        "id": "0dG5QsDnoJw4"
      },
      "source": [
        "### Exercise 5\n",
        "Convert seconds to days:hours:minutes:seconds (without using datetime)"
      ]
    },
    {
      "cell_type": "code",
      "metadata": {
        "id": "riZL3l86TJ2Z",
        "colab": {
          "base_uri": "https://localhost:8080/"
        },
        "outputId": "120c786a-1830-432d-8f76-3da6528a51fd"
      },
      "source": [
        "seconds = int(input(\"Number of seconds: \"))\n",
        "\n",
        "days = seconds // 86400\n",
        "hours = (seconds % 86400) // 3600\n",
        "mins = ((seconds % 86400) % 3600) // 60\n",
        "secs = ((seconds % 86400) % 3600) % 60\n",
        " \n",
        "print(\"d:\", days, \"h:\", hours, \"m:\", mins, \"s:\", secs)"
      ],
      "execution_count": null,
      "outputs": [
        {
          "output_type": "stream",
          "name": "stdout",
          "text": [
            "Number of seconds: 100000\n",
            "d: 1 h: 3 m: 46 s: 40\n"
          ]
        }
      ]
    },
    {
      "cell_type": "markdown",
      "metadata": {
        "id": "nBVW10zzoLN-"
      },
      "source": [
        "### Exercise 6\n",
        "You accept a comma-separated sequence of numbers from the user. Make a list and tuple of these numbers."
      ]
    },
    {
      "cell_type": "code",
      "metadata": {
        "id": "x--lqdQOoMSG",
        "colab": {
          "base_uri": "https://localhost:8080/"
        },
        "outputId": "a29eeaf1-b12a-4cc3-ae64-9a85369d2012"
      },
      "source": [
        "sequence = input(\"Enter the sequence: \")\n",
        "\n",
        "input_list = sequence.split(\",\")\n",
        "input_tuple = tuple(input_list)\n",
        "\n",
        "print(\"list:\", input_list)\n",
        "print(\"tuple: \", input_tuple)\n"
      ],
      "execution_count": null,
      "outputs": [
        {
          "output_type": "stream",
          "name": "stdout",
          "text": [
            "Enter the sequence: 5, 6, 7, 8, 9,0\n",
            "list: ['5', ' 6', ' 7', ' 8', ' 9', '0']\n",
            "tuple:  ('5', ' 6', ' 7', ' 8', ' 9', '0')\n"
          ]
        }
      ]
    },
    {
      "cell_type": "markdown",
      "metadata": {
        "id": "LX80ZS4VoMt_"
      },
      "source": [
        "### Exercise 7\n",
        "Print the first and last element of a list filled with N random integers."
      ]
    },
    {
      "cell_type": "code",
      "metadata": {
        "id": "O16WVyH2TfRO",
        "colab": {
          "base_uri": "https://localhost:8080/"
        },
        "outputId": "73bb7e90-6ff2-47f0-faa2-8e4c7ef382f9"
      },
      "source": [
        "N = int(input())\n",
        "n = list(map(int, str(N)))\n",
        "\n",
        "print(\"first:\", n[0], \"last:\", n[-1])"
      ],
      "execution_count": null,
      "outputs": [
        {
          "output_type": "stream",
          "name": "stdout",
          "text": [
            "6238643\n",
            "first: 6 last: 3\n"
          ]
        }
      ]
    },
    {
      "cell_type": "markdown",
      "metadata": {
        "id": "RONwF247oOGw"
      },
      "source": [
        "### Exercise 8\n",
        "Print the file extension. If it cannot be determined, print \"no extension\"."
      ]
    },
    {
      "cell_type": "code",
      "metadata": {
        "id": "zXm-h5SlUPlF",
        "colab": {
          "base_uri": "https://localhost:8080/"
        },
        "outputId": "fd701eef-b162-439f-c787-5dd791c7c003"
      },
      "source": [
        "filename = input('File name: \\n')\n",
        "\n",
        "split_file = filename.split(\".\")\n",
        "\n",
        "if len(split_file) < 2:\n",
        "    print(\"no extension\")\n",
        "else:\n",
        "    print(\"extension:\", split_file[-1])"
      ],
      "execution_count": null,
      "outputs": [
        {
          "output_type": "stream",
          "name": "stdout",
          "text": [
            "File name: \n",
            "walk.jpeg\n",
            "extension: jpeg\n"
          ]
        }
      ]
    },
    {
      "cell_type": "markdown",
      "metadata": {
        "id": "Imewfx3UphZG"
      },
      "source": [
        "### Exercise 9\n",
        "Add up the digits of the given integer."
      ]
    },
    {
      "cell_type": "code",
      "metadata": {
        "id": "S0prYFkypjMD",
        "colab": {
          "base_uri": "https://localhost:8080/"
        },
        "outputId": "7a7d133e-d81f-4a8c-a069-31c95a57d26f"
      },
      "source": [
        "x = 12345\n",
        "\n",
        "n = list(map(int, str(x)))\n",
        "print(\"sum:\", sum(n))\n"
      ],
      "execution_count": null,
      "outputs": [
        {
          "output_type": "stream",
          "name": "stdout",
          "text": [
            "sum: 15\n"
          ]
        }
      ]
    },
    {
      "cell_type": "markdown",
      "metadata": {
        "id": "tx0wApZupk05"
      },
      "source": [
        "### Exercise 10\n",
        "Сreate two lists of size 20 containing random integers from the segment [0, 30], prints them to the screen and all elements of the first that are not in the second."
      ]
    },
    {
      "cell_type": "code",
      "metadata": {
        "id": "MkC_sLdRpoG7",
        "colab": {
          "base_uri": "https://localhost:8080/"
        },
        "outputId": "61f2285f-6a48-4db7-cbf5-78eb1467393a"
      },
      "source": [
        "lst1 =  [random.randint(0,31) for i in range(20)]\n",
        "lst2 =  [random.randint(0,31) for i in range(20)]\n",
        "\n",
        "print(\"list 1:\", lst1)\n",
        "print(\"list 2:\", lst2)\n",
        "print(\"unique:\", list(set(lst1).difference(lst2)))"
      ],
      "execution_count": null,
      "outputs": [
        {
          "output_type": "stream",
          "name": "stdout",
          "text": [
            "list 1: [11, 11, 29, 18, 8, 9, 20, 28, 12, 31, 24, 6, 8, 0, 31, 24, 15, 27, 16, 6]\n",
            "list 2: [15, 23, 5, 13, 12, 26, 18, 7, 2, 26, 8, 19, 20, 14, 4, 18, 25, 27, 26, 2]\n",
            "unique: [0, 6, 9, 11, 16, 24, 28, 29, 31]\n"
          ]
        }
      ]
    },
    {
      "cell_type": "markdown",
      "metadata": {
        "id": "PO9NF3IBpoxz"
      },
      "source": [
        "### Exercise 11\n",
        "Find the number of divisors of a given integer."
      ]
    },
    {
      "cell_type": "code",
      "metadata": {
        "id": "6pqgc99LprzC",
        "colab": {
          "base_uri": "https://localhost:8080/"
        },
        "outputId": "3c1a94c7-27c6-4430-f137-0e1b34ef453c"
      },
      "source": [
        "integer = int(input())\n",
        "\n",
        "divisors = []\n",
        "for i in range(1, integer + 1):\n",
        "  if integer % i == 0:\n",
        "    divisors.append(i)\n",
        "print(divisors)\n"
      ],
      "execution_count": null,
      "outputs": [
        {
          "output_type": "stream",
          "name": "stdout",
          "text": [
            "65\n",
            "[1, 5, 13, 65]\n"
          ]
        }
      ]
    },
    {
      "cell_type": "markdown",
      "metadata": {
        "id": "0lMCVueRpsae"
      },
      "source": [
        "### Exercise 12\n",
        "Count input letter in the input string."
      ]
    },
    {
      "cell_type": "code",
      "metadata": {
        "id": "u-x80kjLQIVg",
        "colab": {
          "base_uri": "https://localhost:8080/"
        },
        "outputId": "476892d8-c3d6-44d8-ab6f-731b187725f6"
      },
      "source": [
        "string = input('string: ')\n",
        "letter = input('letter: ')\n",
        "\n",
        "count = 0\n",
        "for x in string: \n",
        "  if x == letter:\n",
        "    count +=1\n",
        "\n",
        "print(\"count:\", count)"
      ],
      "execution_count": null,
      "outputs": [
        {
          "output_type": "stream",
          "name": "stdout",
          "text": [
            "string: the quick brown fox jumps over the lazy dog\n",
            "letter: o\n",
            "count: 4\n"
          ]
        }
      ]
    },
    {
      "cell_type": "markdown",
      "metadata": {
        "id": "FF0C3-cTp0uy"
      },
      "source": [
        "### Exercise 13\n",
        "Just swap the values "
      ]
    },
    {
      "cell_type": "code",
      "metadata": {
        "id": "KRHJfO1dcwNr",
        "colab": {
          "base_uri": "https://localhost:8080/"
        },
        "outputId": "448ec905-3d0e-4dbf-dbbf-a6973dfca0c6"
      },
      "source": [
        "var1 = input()\n",
        "var2 = input()\n",
        "\n",
        "print(\"initial:\", var1, var2)\n",
        "\n",
        "var1, var2 = var2, var1\n",
        "\n",
        "print(\"swap:\", var1, var2)\n"
      ],
      "execution_count": null,
      "outputs": [
        {
          "output_type": "stream",
          "name": "stdout",
          "text": [
            "hi\n",
            "bye\n",
            "initial: hi bye\n",
            "swap: bye hi\n"
          ]
        }
      ]
    },
    {
      "cell_type": "markdown",
      "metadata": {
        "id": "I2x5B2_Np9kO"
      },
      "source": [
        "### Exercise 14\n",
        "You need to check if all the numbers in the sequence are unique. The sequence consists of integers entered from the keyboard. The end of the input is the `'#'` symbol."
      ]
    },
    {
      "cell_type": "code",
      "metadata": {
        "id": "gsiB8H61p_Bb",
        "colab": {
          "base_uri": "https://localhost:8080/"
        },
        "outputId": "73755f67-2470-4108-d780-bde06a23ac8f"
      },
      "source": [
        "sequence = input()\n",
        "\n",
        "i = 0\n",
        "for x in sequence:\n",
        "  if x == '#':\n",
        "    print(\"All are unique.\")\n",
        "    break\n",
        "  elif x == sequence[i-1]:\n",
        "    print(\"Not unique.\")\n",
        "    break\n",
        "  i += 1\n"
      ],
      "execution_count": null,
      "outputs": [
        {
          "output_type": "stream",
          "name": "stdout",
          "text": [
            "12345#\n",
            "All are unique.\n"
          ]
        }
      ]
    },
    {
      "cell_type": "markdown",
      "metadata": {
        "id": "hiPumXgoZtPS"
      },
      "source": [
        "### Exercise 15\n",
        "\n",
        "Create two built-in frozenset objects from strings `'reversed question'` and `'answer'`, and try to make them keys in the dct dictionary for the strings `'? Tesnezorf dna tes neewteb ecnereffid niam eht si tahw'` and **`'<your answer to the question>'`**, respectively. There is no need to reverse the answer. Finally, print out the dct dictionary."
      ]
    },
    {
      "cell_type": "code",
      "metadata": {
        "id": "raWWJ0h_77_B"
      },
      "source": [
        "dct2 = {}"
      ],
      "execution_count": null,
      "outputs": []
    },
    {
      "cell_type": "code",
      "metadata": {
        "id": "1Jp2fm0jaChM",
        "colab": {
          "base_uri": "https://localhost:8080/"
        },
        "outputId": "2b8b8693-1299-437a-c4bc-048eb61f338f"
      },
      "source": [
        "question = frozenset(\"reversed question\")\n",
        "answer = frozenset(\"answer\")\n",
        "dct2[question] = \"? Tesnezorf dna tes neewteb ecnereffid niam eht si tahw\"\n",
        "dct2[answer] = \"frozenset is the same as set except the frozensets are immutable\"\n",
        "\n",
        "dct2"
      ],
      "execution_count": null,
      "outputs": [
        {
          "output_type": "execute_result",
          "data": {
            "text/plain": [
              "{frozenset({' ',\n",
              "            'd',\n",
              "            'e',\n",
              "            'i',\n",
              "            'n',\n",
              "            'o',\n",
              "            'q',\n",
              "            'r',\n",
              "            's',\n",
              "            't',\n",
              "            'u',\n",
              "            'v'}): '? Tesnezorf dna tes neewteb ecnereffid niam eht si tahw',\n",
              " frozenset({'a',\n",
              "            'e',\n",
              "            'n',\n",
              "            'r',\n",
              "            's',\n",
              "            'w'}): 'frozenset is the same as set except the frozensets are immutable'}"
            ]
          },
          "metadata": {},
          "execution_count": 104
        }
      ]
    },
    {
      "cell_type": "markdown",
      "metadata": {
        "id": "wIXXdtGdaMhF"
      },
      "source": [
        "### Exercise 16\n",
        "\n",
        "Find the area of a circle. You can use const `'pi'` from `'math'` module "
      ]
    },
    {
      "cell_type": "code",
      "metadata": {
        "id": "QGSPfMB-anqX",
        "colab": {
          "base_uri": "https://localhost:8080/"
        },
        "outputId": "32e77c59-dd79-4a7c-a735-159bc9187396"
      },
      "source": [
        "r = float(input())\n",
        "area = math.pi * r ** 2\n",
        "\n",
        "print(area)"
      ],
      "execution_count": null,
      "outputs": [
        {
          "output_type": "stream",
          "name": "stdout",
          "text": [
            "7\n",
            "153.93804002589985\n"
          ]
        }
      ]
    },
    {
      "cell_type": "markdown",
      "metadata": {
        "id": "Dj3SgDdLahaZ"
      },
      "source": [
        "### Exercise 17\n",
        "\n",
        "Swap keys and values."
      ]
    },
    {
      "cell_type": "code",
      "metadata": {
        "id": "jVi685NrawKc",
        "colab": {
          "base_uri": "https://localhost:8080/"
        },
        "outputId": "e0e6a016-ab88-4f61-df95-3b1679e035db"
      },
      "source": [
        "dct = {x: x ** 2 for x in range(10)}\n",
        "print(dct)\n",
        "\n",
        "print(dict((v, k) for k, v in dct.items()))\n"
      ],
      "execution_count": null,
      "outputs": [
        {
          "output_type": "stream",
          "name": "stdout",
          "text": [
            "{0: 0, 1: 1, 2: 4, 3: 9, 4: 16, 5: 25, 6: 36, 7: 49, 8: 64, 9: 81}\n",
            "{0: 0, 1: 1, 4: 2, 9: 3, 16: 4, 25: 5, 36: 6, 49: 7, 64: 8, 81: 9}\n"
          ]
        }
      ]
    },
    {
      "cell_type": "markdown",
      "metadata": {
        "id": "bSkROdzbbDPT"
      },
      "source": [
        "### Exercise 18\n",
        "\n",
        "Create a variable that stores the description of this task as a string, separate the words, and convert to LOWERCASE."
      ]
    },
    {
      "cell_type": "code",
      "metadata": {
        "id": "QLQuRJ5fbHyG",
        "colab": {
          "base_uri": "https://localhost:8080/"
        },
        "outputId": "3cc9e80a-d0ba-458f-d5f3-47a7b925278d"
      },
      "source": [
        "string = \"Create a variable that stores the description of this task as a string, separate the words, and convert to LOWERCASE.\"\n",
        "string_list = [i.lower() for i in string.split()]\n",
        "print(string_list)"
      ],
      "execution_count": null,
      "outputs": [
        {
          "output_type": "stream",
          "name": "stdout",
          "text": [
            "['create', 'a', 'variable', 'that', 'stores', 'the', 'description', 'of', 'this', 'task', 'as', 'a', 'string,', 'separate', 'the', 'words,', 'and', 'convert', 'to', 'lowercase.']\n"
          ]
        }
      ]
    },
    {
      "cell_type": "markdown",
      "metadata": {
        "id": "xDwSLToobQIJ"
      },
      "source": [
        "### Exercise 19\n",
        "Print the sorted words from the previous exercise in reverse lexicographical order."
      ]
    },
    {
      "cell_type": "code",
      "metadata": {
        "id": "QqEMRS9NbST0",
        "colab": {
          "base_uri": "https://localhost:8080/"
        },
        "outputId": "10efc374-3502-412e-ed4a-f7cbaa3148ca"
      },
      "source": [
        "print(sorted(string_list))"
      ],
      "execution_count": null,
      "outputs": [
        {
          "output_type": "stream",
          "name": "stdout",
          "text": [
            "['a', 'a', 'and', 'as', 'convert', 'create', 'description', 'lowercase.', 'of', 'separate', 'stores', 'string,', 'task', 'that', 'the', 'the', 'this', 'to', 'variable', 'words,']\n"
          ]
        }
      ]
    },
    {
      "cell_type": "markdown",
      "metadata": {
        "id": "rO-Amdrhbfc5"
      },
      "source": [
        "### Exercise 20\n",
        "\n",
        "Write code that reverses all odd-numbered elements of lst in reverse order.\n",
        "\n",
        "That is, if lst = [0, 1, 2, 3, 4, 5, 6, 7, 8, 9], then you should get [0, 9, 2, 7, 4, 5, 6, 3, 8, 1]"
      ]
    },
    {
      "cell_type": "code",
      "metadata": {
        "id": "e3SdQqGLbnI9",
        "colab": {
          "base_uri": "https://localhost:8080/"
        },
        "outputId": "967d3df6-7ef2-4c93-b878-a31bb1de1294"
      },
      "source": [
        "lst = [0, 1, 2, 3, 4, 5, 6, 7, 8, 9]\n",
        "\n",
        "even = [i for i in lst if i % 2 == 0]\n",
        "odd = [i for i in lst if i % 2 == 1]\n",
        "print(odd)\n",
        "print(even)\n",
        "odd = odd[::-1]\n",
        "\n",
        "print([x for y in zip(even, odd) for x in y])"
      ],
      "execution_count": null,
      "outputs": [
        {
          "output_type": "stream",
          "name": "stdout",
          "text": [
            "[1, 3, 5, 7, 9]\n",
            "[0, 2, 4, 6, 8]\n",
            "[0, 9, 2, 7, 4, 5, 6, 3, 8, 1]\n"
          ]
        }
      ]
    }
  ]
}